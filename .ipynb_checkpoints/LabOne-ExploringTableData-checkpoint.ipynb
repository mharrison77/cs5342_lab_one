{
 "cells": [
  {
   "cell_type": "markdown",
   "id": "62631ea4-e015-487c-b7ce-487c4f7b9237",
   "metadata": {},
   "source": [
    "# Lab One: Exploring Table Data"
   ]
  },
  {
   "cell_type": "markdown",
   "id": "2c57d22b-0662-4524-b0fb-2df59ad19820",
   "metadata": {},
   "source": [
    "#### Garrett Webb, Jackson Heck, Maria Harrison"
   ]
  },
  {
   "cell_type": "markdown",
   "id": "9b2f4783-859c-4967-b4c2-ba804d267fb0",
   "metadata": {},
   "source": [
    "## 1. Business Understanding"
   ]
  },
  {
   "cell_type": "markdown",
   "id": "776b76a6-f813-4ff5-a375-8384598dd6f7",
   "metadata": {},
   "source": [
    "[1.5 points] In your own words, give an overview of the dataset. Describe the purpose of the data set you selected (i.e., why and how was this data collected in the first place?). What is the prediction task for your data and why are other third parties interested in the result? Once you begin modeling, how well would your prediction algorithm need to perform to be considered useful to these third parties?\n",
    "\n",
    "In the late 1960s, Former President of the Republic of Indonesia Suharto instituted a population policy and introduced a variety of government programs. One of these was the national family planning (FP) program which hoped to halt the high population growth rate. This program pushed the use of contraceptives by educating about contraceptive methods and offering free contraceptives.\n",
    "\n",
    "Roughly two decades later, the government conducted the 1987 National Indonesia Contraceptive Prevalnce Survey. This dataset, a subset of the aforementioned survey, has 1473 samples and 10 features, including both categorical and numerical features. It is free to download at https://archive.ics.uci.edu/ml/datasets/. \n",
    "\n",
    "By exploring the relationships between the attributes and visualizing the attributes, we will be able to determine what factors determine if a woman might choose to use contraceptive methods. At the same time, we might get some insight into which factors play a role in deciding to not use contraception. The factors that we will investigate include age, education level, religious views, occupation, media exposure, and standard of living. Additionally, we will be able to recommend which programs may need increased funding or involvement in order to increase the use of contraception. \n",
    "\n",
    "============================================================================================================================================================================\n",
    "\n",
    "\n",
    "Dataset: Contraceptive Method Choice Data Set URL: https://archive.ics.uci.edu/ml/datasets/Contraceptive+Method+Choice"
   ]
  },
  {
   "cell_type": "markdown",
   "id": "789b28ab-9928-48db-8f82-897b7099a633",
   "metadata": {},
   "source": [
    "## 2. Data Understanding"
   ]
  },
  {
   "cell_type": "markdown",
   "id": "d8428e42-9b15-449a-9196-80d250e2f7d5",
   "metadata": {},
   "source": [
    "[1.5 points] Load the dataset and appropriately define data types. What data type should be used to represent each data attribute? Discuss the attributes collected in the dataset. For datasets with a large number of attributes, only discuss a subset of relevant attributes.  "
   ]
  },
  {
   "cell_type": "markdown",
   "id": "c3eba75c-7120-4c65-a5fd-03bb5967df25",
   "metadata": {},
   "source": [
    "### Define Data"
   ]
  },
  {
   "cell_type": "code",
   "execution_count": 187,
   "id": "8e311ba7-8f83-4ee6-be76-1aed699bb0a0",
   "metadata": {},
   "outputs": [
    {
     "data": {
      "text/html": [
       "<div>\n",
       "<style scoped>\n",
       "    .dataframe tbody tr th:only-of-type {\n",
       "        vertical-align: middle;\n",
       "    }\n",
       "\n",
       "    .dataframe tbody tr th {\n",
       "        vertical-align: top;\n",
       "    }\n",
       "\n",
       "    .dataframe thead th {\n",
       "        text-align: right;\n",
       "    }\n",
       "</style>\n",
       "<table border=\"1\" class=\"dataframe\">\n",
       "  <thead>\n",
       "    <tr style=\"text-align: right;\">\n",
       "      <th></th>\n",
       "      <th>wife_age</th>\n",
       "      <th>wife_education_level</th>\n",
       "      <th>husband_education_level</th>\n",
       "      <th>num_children</th>\n",
       "      <th>isMuslim</th>\n",
       "      <th>isNotWorking</th>\n",
       "      <th>husband_occupation</th>\n",
       "      <th>standard_of_living</th>\n",
       "      <th>isNotExposedToMedia</th>\n",
       "      <th>contraceptive_method_used</th>\n",
       "    </tr>\n",
       "  </thead>\n",
       "  <tbody>\n",
       "    <tr>\n",
       "      <th>0</th>\n",
       "      <td>24</td>\n",
       "      <td>2</td>\n",
       "      <td>3</td>\n",
       "      <td>3</td>\n",
       "      <td>1</td>\n",
       "      <td>1</td>\n",
       "      <td>2</td>\n",
       "      <td>3</td>\n",
       "      <td>0</td>\n",
       "      <td>1</td>\n",
       "    </tr>\n",
       "    <tr>\n",
       "      <th>1</th>\n",
       "      <td>45</td>\n",
       "      <td>1</td>\n",
       "      <td>3</td>\n",
       "      <td>10</td>\n",
       "      <td>1</td>\n",
       "      <td>1</td>\n",
       "      <td>3</td>\n",
       "      <td>4</td>\n",
       "      <td>0</td>\n",
       "      <td>1</td>\n",
       "    </tr>\n",
       "    <tr>\n",
       "      <th>2</th>\n",
       "      <td>43</td>\n",
       "      <td>2</td>\n",
       "      <td>3</td>\n",
       "      <td>7</td>\n",
       "      <td>1</td>\n",
       "      <td>1</td>\n",
       "      <td>3</td>\n",
       "      <td>4</td>\n",
       "      <td>0</td>\n",
       "      <td>1</td>\n",
       "    </tr>\n",
       "    <tr>\n",
       "      <th>3</th>\n",
       "      <td>42</td>\n",
       "      <td>3</td>\n",
       "      <td>2</td>\n",
       "      <td>9</td>\n",
       "      <td>1</td>\n",
       "      <td>1</td>\n",
       "      <td>3</td>\n",
       "      <td>3</td>\n",
       "      <td>0</td>\n",
       "      <td>1</td>\n",
       "    </tr>\n",
       "    <tr>\n",
       "      <th>4</th>\n",
       "      <td>36</td>\n",
       "      <td>3</td>\n",
       "      <td>3</td>\n",
       "      <td>8</td>\n",
       "      <td>1</td>\n",
       "      <td>1</td>\n",
       "      <td>3</td>\n",
       "      <td>2</td>\n",
       "      <td>0</td>\n",
       "      <td>1</td>\n",
       "    </tr>\n",
       "  </tbody>\n",
       "</table>\n",
       "</div>"
      ],
      "text/plain": [
       "   wife_age  wife_education_level  husband_education_level  num_children  \\\n",
       "0        24                     2                        3             3   \n",
       "1        45                     1                        3            10   \n",
       "2        43                     2                        3             7   \n",
       "3        42                     3                        2             9   \n",
       "4        36                     3                        3             8   \n",
       "\n",
       "   isMuslim  isNotWorking  husband_occupation  standard_of_living  \\\n",
       "0         1             1                   2                   3   \n",
       "1         1             1                   3                   4   \n",
       "2         1             1                   3                   4   \n",
       "3         1             1                   3                   3   \n",
       "4         1             1                   3                   2   \n",
       "\n",
       "   isNotExposedToMedia  contraceptive_method_used  \n",
       "0                    0                          1  \n",
       "1                    0                          1  \n",
       "2                    0                          1  \n",
       "3                    0                          1  \n",
       "4                    0                          1  "
      ]
     },
     "execution_count": 187,
     "metadata": {},
     "output_type": "execute_result"
    }
   ],
   "source": [
    "import pandas as pd\n",
    "import numpy as np\n",
    "import matplotlib.pyplot as plt\n",
    "\n",
    "df = pd.read_csv('./cmc.data')\n",
    "\n",
    "df.head()"
   ]
  },
  {
   "cell_type": "markdown",
   "id": "26912cf5-dab2-44ee-b621-8886128d74b6",
   "metadata": {},
   "source": [
    "Let's see what the current data types of each attribute is."
   ]
  },
  {
   "cell_type": "code",
   "execution_count": 188,
   "id": "40785fbb-bdb6-4952-aee9-8a495a8e8a4a",
   "metadata": {},
   "outputs": [
    {
     "name": "stdout",
     "output_type": "stream",
     "text": [
      "<class 'pandas.core.frame.DataFrame'>\n",
      "RangeIndex: 1473 entries, 0 to 1472\n",
      "Data columns (total 10 columns):\n",
      " #   Column                     Non-Null Count  Dtype\n",
      "---  ------                     --------------  -----\n",
      " 0   wife_age                   1473 non-null   int64\n",
      " 1   wife_education_level       1473 non-null   int64\n",
      " 2   husband_education_level    1473 non-null   int64\n",
      " 3   num_children               1473 non-null   int64\n",
      " 4   isMuslim                   1473 non-null   int64\n",
      " 5   isNotWorking               1473 non-null   int64\n",
      " 6   husband_occupation         1473 non-null   int64\n",
      " 7   standard_of_living         1473 non-null   int64\n",
      " 8   isNotExposedToMedia        1473 non-null   int64\n",
      " 9   contraceptive_method_used  1473 non-null   int64\n",
      "dtypes: int64(10)\n",
      "memory usage: 115.2 KB\n",
      "None\n"
     ]
    }
   ],
   "source": [
    "# find data types\n",
    "print(df.info())"
   ]
  },
  {
   "cell_type": "markdown",
   "id": "ee4ae6a4-c132-4713-8bc4-b43b95ce227f",
   "metadata": {},
   "source": [
    "From this information, we can see that all the data has the same data type, non-null int64. In our dataset, we have two types of data: categorical (nominal) and ordinal. \n",
    "\n",
    "The categorical attributes include: 'isMuslim', 'isNotWorking', 'husband_occupation','isNotExposeToMedia', and 'contraceptive_method_used'.\n",
    "\n",
    "The ordinal attributes include: 'wife_age', 'wife_education_level', 'husband_education_level', 'num_children', and 'standard_of_living'.\n",
    "\n",
    "Since ordinal features should be of the type non-null int64, then only the categorical (nominal) features should be changed. However, in the current view, all values are represented as integers. If we wanted to represent some of the categorical values as strings, then we would change the data type to non-null object. This is what that would look like:"
   ]
  },
  {
   "cell_type": "code",
   "execution_count": 189,
   "id": "0c482d85-76be-47f8-814e-8b3cfe6280c5",
   "metadata": {},
   "outputs": [
    {
     "name": "stdout",
     "output_type": "stream",
     "text": [
      "<class 'pandas.core.frame.DataFrame'>\n",
      "RangeIndex: 1473 entries, 0 to 1472\n",
      "Data columns (total 10 columns):\n",
      " #   Column                     Non-Null Count  Dtype   \n",
      "---  ------                     --------------  -----   \n",
      " 0   wife_age                   1473 non-null   int64   \n",
      " 1   wife_education_level       1473 non-null   int64   \n",
      " 2   husband_education_level    1473 non-null   int64   \n",
      " 3   num_children               1473 non-null   int64   \n",
      " 4   isMuslim                   1473 non-null   int64   \n",
      " 5   isNotWorking               1473 non-null   int64   \n",
      " 6   husband_occupation         1473 non-null   object  \n",
      " 7   standard_of_living         1473 non-null   int64   \n",
      " 8   isNotExposedToMedia        1473 non-null   int64   \n",
      " 9   contraceptive_method_used  1473 non-null   category\n",
      "dtypes: category(1), int64(8), object(1)\n",
      "memory usage: 105.3+ KB\n",
      "None\n"
     ]
    },
    {
     "data": {
      "text/html": [
       "<div>\n",
       "<style scoped>\n",
       "    .dataframe tbody tr th:only-of-type {\n",
       "        vertical-align: middle;\n",
       "    }\n",
       "\n",
       "    .dataframe tbody tr th {\n",
       "        vertical-align: top;\n",
       "    }\n",
       "\n",
       "    .dataframe thead th {\n",
       "        text-align: right;\n",
       "    }\n",
       "</style>\n",
       "<table border=\"1\" class=\"dataframe\">\n",
       "  <thead>\n",
       "    <tr style=\"text-align: right;\">\n",
       "      <th></th>\n",
       "      <th>wife_age</th>\n",
       "      <th>wife_education_level</th>\n",
       "      <th>husband_education_level</th>\n",
       "      <th>num_children</th>\n",
       "      <th>isMuslim</th>\n",
       "      <th>isNotWorking</th>\n",
       "      <th>husband_occupation</th>\n",
       "      <th>standard_of_living</th>\n",
       "      <th>isNotExposedToMedia</th>\n",
       "      <th>contraceptive_method_used</th>\n",
       "    </tr>\n",
       "  </thead>\n",
       "  <tbody>\n",
       "    <tr>\n",
       "      <th>0</th>\n",
       "      <td>24</td>\n",
       "      <td>2</td>\n",
       "      <td>3</td>\n",
       "      <td>3</td>\n",
       "      <td>1</td>\n",
       "      <td>1</td>\n",
       "      <td>sales, services</td>\n",
       "      <td>3</td>\n",
       "      <td>0</td>\n",
       "      <td>no use</td>\n",
       "    </tr>\n",
       "    <tr>\n",
       "      <th>1</th>\n",
       "      <td>45</td>\n",
       "      <td>1</td>\n",
       "      <td>3</td>\n",
       "      <td>10</td>\n",
       "      <td>1</td>\n",
       "      <td>1</td>\n",
       "      <td>manual</td>\n",
       "      <td>4</td>\n",
       "      <td>0</td>\n",
       "      <td>no use</td>\n",
       "    </tr>\n",
       "    <tr>\n",
       "      <th>2</th>\n",
       "      <td>43</td>\n",
       "      <td>2</td>\n",
       "      <td>3</td>\n",
       "      <td>7</td>\n",
       "      <td>1</td>\n",
       "      <td>1</td>\n",
       "      <td>manual</td>\n",
       "      <td>4</td>\n",
       "      <td>0</td>\n",
       "      <td>no use</td>\n",
       "    </tr>\n",
       "    <tr>\n",
       "      <th>3</th>\n",
       "      <td>42</td>\n",
       "      <td>3</td>\n",
       "      <td>2</td>\n",
       "      <td>9</td>\n",
       "      <td>1</td>\n",
       "      <td>1</td>\n",
       "      <td>manual</td>\n",
       "      <td>3</td>\n",
       "      <td>0</td>\n",
       "      <td>no use</td>\n",
       "    </tr>\n",
       "    <tr>\n",
       "      <th>4</th>\n",
       "      <td>36</td>\n",
       "      <td>3</td>\n",
       "      <td>3</td>\n",
       "      <td>8</td>\n",
       "      <td>1</td>\n",
       "      <td>1</td>\n",
       "      <td>manual</td>\n",
       "      <td>2</td>\n",
       "      <td>0</td>\n",
       "      <td>no use</td>\n",
       "    </tr>\n",
       "  </tbody>\n",
       "</table>\n",
       "</div>"
      ],
      "text/plain": [
       "   wife_age  wife_education_level  husband_education_level  num_children  \\\n",
       "0        24                     2                        3             3   \n",
       "1        45                     1                        3            10   \n",
       "2        43                     2                        3             7   \n",
       "3        42                     3                        2             9   \n",
       "4        36                     3                        3             8   \n",
       "\n",
       "   isMuslim  isNotWorking husband_occupation  standard_of_living  \\\n",
       "0         1             1    sales, services                   3   \n",
       "1         1             1             manual                   4   \n",
       "2         1             1             manual                   4   \n",
       "3         1             1             manual                   3   \n",
       "4         1             1             manual                   2   \n",
       "\n",
       "   isNotExposedToMedia contraceptive_method_used  \n",
       "0                    0                    no use  \n",
       "1                    0                    no use  \n",
       "2                    0                    no use  \n",
       "3                    0                    no use  \n",
       "4                    0                    no use  "
      ]
     },
     "execution_count": 189,
     "metadata": {},
     "output_type": "execute_result"
    }
   ],
   "source": [
    "# replace husband's occupation to string\n",
    "df.husband_occupation.replace(to_replace = [1,2,3,4],\n",
    "                              value = ['professional,technical, or clerical', 'sales, services', 'manual', 'agriculture'],\n",
    "                              inplace = True)\n",
    "\n",
    "# replace contraceptive method used to string\n",
    "df.contraceptive_method_used.replace(to_replace = [1,2,3],\n",
    "                                     value = ['no use', 'long-term use', 'short-term use'],\n",
    "                                     inplace = True)\n",
    "\n",
    "# To ensure proper ordering of categorical\n",
    "df.contraceptive_method_used = pd.Categorical(df.contraceptive_method_used,\n",
    "                                              categories = ['no use', 'short-term use', 'long-term use'],\n",
    "                                              ordered = True)\n",
    "\n",
    "print(df.info())\n",
    "df.head()"
   ]
  },
  {
   "cell_type": "markdown",
   "id": "3a7ac8b6-5e03-4f71-b010-5b7cb9c0e3ea",
   "metadata": {},
   "source": [
    "By changing the numeric values to strings, the data types of those columns ('husband_occupation' and 'contraceptive_method_used') have changed to non-null object. While we technically could change the rest of the categorical features, the remaining features are binary and are best visualized with numerics values, 0 and 1. "
   ]
  },
  {
   "cell_type": "markdown",
   "id": "4f44759a-deb6-4d56-b5e4-6ac1d6571a95",
   "metadata": {},
   "source": [
    "### Verify Data Quality"
   ]
  },
  {
   "cell_type": "markdown",
   "id": "c32280cd-7bd9-44f9-8e80-3547f679544f",
   "metadata": {},
   "source": [
    "[1.5 points] Verify data quality: Explain any missing values or duplicate data. Visualize entries that are missing/complete for different attributes. Are those mistakes? Why do these quality issues exist in the data? How do you deal with these problems? Give justifications for your methods (elimination or imputation).  "
   ]
  },
  {
   "cell_type": "markdown",
   "id": "1a75537d-426c-42ea-9afd-44e99d4df847",
   "metadata": {},
   "source": [
    "First, we will check to see if there are any missing values."
   ]
  },
  {
   "cell_type": "code",
   "execution_count": 190,
   "id": "d585bc49-88b8-4b67-813d-b795e5b2afb7",
   "metadata": {},
   "outputs": [
    {
     "name": "stdout",
     "output_type": "stream",
     "text": [
      "<class 'pandas.core.frame.DataFrame'>\n",
      "RangeIndex: 1473 entries, 0 to 1472\n",
      "Data columns (total 10 columns):\n",
      " #   Column                     Non-Null Count  Dtype   \n",
      "---  ------                     --------------  -----   \n",
      " 0   wife_age                   1473 non-null   int64   \n",
      " 1   wife_education_level       1473 non-null   int64   \n",
      " 2   husband_education_level    1473 non-null   int64   \n",
      " 3   num_children               1473 non-null   int64   \n",
      " 4   isMuslim                   1473 non-null   int64   \n",
      " 5   isNotWorking               1473 non-null   int64   \n",
      " 6   husband_occupation         1473 non-null   object  \n",
      " 7   standard_of_living         1473 non-null   int64   \n",
      " 8   isNotExposedToMedia        1473 non-null   int64   \n",
      " 9   contraceptive_method_used  1473 non-null   category\n",
      "dtypes: category(1), int64(8), object(1)\n",
      "memory usage: 105.3+ KB\n",
      "None\n"
     ]
    }
   ],
   "source": [
    "print(df.info())"
   ]
  },
  {
   "cell_type": "markdown",
   "id": "e44e462d-a5b7-477c-9acf-003e11738dd6",
   "metadata": {},
   "source": [
    "Based on this information, there are no missing values from this dataset since each column has 1473 rows, which is the amount of samples in this dataset. From a scan of the data, there appears to be no strange values in any of the columns. Each of the values match an expected value given for each column."
   ]
  },
  {
   "cell_type": "code",
   "execution_count": 191,
   "id": "c6b270c0-7ab4-4c42-a30f-c7a8ed57447e",
   "metadata": {},
   "outputs": [
    {
     "name": "stdout",
     "output_type": "stream",
     "text": [
      "wife_age\n",
      "[24 45 43 42 36 19 38 21 27 44 26 48 39 37 46 40 29 31 33 25 28 47 32 49\n",
      " 34 20 22 30 23 35 41 17 18 16]\n",
      "wife_education_level\n",
      "[2 1 3 4]\n",
      "husband_education_level\n",
      "[3 2 4 1]\n",
      "num_children\n",
      "[ 3 10  7  9  8  0  6  1  2  4  5 12 11 13 16]\n",
      "isMuslim\n",
      "[1 0]\n",
      "isNotWorking\n",
      "[1 0]\n",
      "husband_occupation\n",
      "['sales, services' 'manual' 'professional,technical, or clerical'\n",
      " 'agriculture']\n",
      "standard_of_living\n",
      "[3 4 2 1]\n",
      "isNotExposedToMedia\n",
      "[0 1]\n",
      "contraceptive_method_used\n",
      "['no use', 'long-term use', 'short-term use']\n",
      "Categories (3, object): ['no use' < 'short-term use' < 'long-term use']\n"
     ]
    }
   ],
   "source": [
    "for col in df:\n",
    "    print(col)\n",
    "    print(df[col].unique())"
   ]
  },
  {
   "cell_type": "markdown",
   "id": "3e800d62-ead4-4c14-8eb4-749efd28f02c",
   "metadata": {},
   "source": [
    "From these results, we can verify there are no strange values for any of the columns. \n",
    "\n",
    "Now, we will check if duplicate data exists in the dataset."
   ]
  },
  {
   "cell_type": "code",
   "execution_count": 192,
   "id": "ef039f0c-8206-4c6a-b1c1-64c3a977776b",
   "metadata": {},
   "outputs": [],
   "source": [
    "# df[df.duplicated()]"
   ]
  },
  {
   "cell_type": "code",
   "execution_count": 193,
   "id": "d6dc8b79-3d7b-4b4d-b952-e58b48ea670d",
   "metadata": {},
   "outputs": [
    {
     "data": {
      "text/plain": [
       "48"
      ]
     },
     "execution_count": 193,
     "metadata": {},
     "output_type": "execute_result"
    }
   ],
   "source": [
    "# find the number of duplicates\n",
    "len(df[df.duplicated()])"
   ]
  },
  {
   "cell_type": "markdown",
   "id": "9a58a506-7744-4505-8343-ba12aa9f1737",
   "metadata": {},
   "source": [
    "This shows that 48 samples are duplicates. Unfortunately, it is difficult to determine if they are true duplicates since the dataset does not include any uniquely identifying information about each individual such as name, date of birth, or single identity number from an Indonesian identiy card. \n",
    "\n",
    "Since there are no missing values and not enough information to verify the duplicates, there is no need to impute any missing information or drop any instances or features."
   ]
  },
  {
   "cell_type": "markdown",
   "id": "8ac544cb-6ec9-4c2a-a97c-451e1ef90fc3",
   "metadata": {},
   "source": [
    "## Data Visualization"
   ]
  },
  {
   "cell_type": "markdown",
   "id": "7b70c243-d00e-4b1b-ac09-e70a6c9e66bc",
   "metadata": {},
   "source": [
    "[2 points] Visualize basic feature distributions. That is, plot the dynamic range and exploratory distribution plots (like boxplots, histograms, kernel density estimation) to better understand the data. Describe anything meaningful or potentially useful you discover from these visualizations. These may also help to understand what data is missing or needs imputation. Note: You can also use data from other sources to bolster visualizations. Visualize at least five plots, at least one categorical. \n",
    "[2.5 points] Ask three interesting questions that are relevant to your dataset and explore visuals that help answer these questions. Use whichever visualization method is appropriate for your data.  Important: Interpret the implications for each visualization. "
   ]
  },
  {
   "cell_type": "code",
   "execution_count": 194,
   "id": "3e62801b",
   "metadata": {},
   "outputs": [
    {
     "data": {
      "text/plain": [
       "<AxesSubplot: xlabel='contraceptive_method_used'>"
      ]
     },
     "execution_count": 194,
     "metadata": {},
     "output_type": "execute_result"
    },
    {
     "data": {
      "image/png": "[encoded data removed]",
      "text/plain": [
       "<Figure size 640x480 with 1 Axes>"
      ]
     },
     "metadata": {},
     "output_type": "display_data"
    }
   ],
   "source": [
    "df.groupby('contraceptive_method_used').size().plot.bar()"
   ]
  },
  {
   "cell_type": "markdown",
   "id": "b7caa540",
   "metadata": {},
   "source": [
    "The above plot displays distribution of contraceptive method used among the population of women polled."
   ]
  },
  {
   "cell_type": "code",
   "execution_count": 195,
   "id": "fe83dc34",
   "metadata": {},
   "outputs": [
    {
     "data": {
      "text/plain": [
       "<AxesSubplot: xlabel='wife_age'>"
      ]
     },
     "execution_count": 195,
     "metadata": {},
     "output_type": "execute_result"
    },
    {
     "data": {
      "image/png": "[encoded data removed]",
      "text/plain": [
       "<Figure size 640x480 with 1 Axes>"
      ]
     },
     "metadata": {},
     "output_type": "display_data"
    }
   ],
   "source": [
    "edf = df.groupby('wife_age')['num_children'].mean()\n",
    "edf.plot()"
   ]
  },
  {
   "cell_type": "markdown",
   "id": "0210ac31",
   "metadata": {},
   "source": [
    "The above plot shows the average number of children compared to age of women polled"
   ]
  },
  {
   "cell_type": "markdown",
   "id": "9cedf031",
   "metadata": {},
   "source": [
    "### Question: How Does Education Level Relate to Contraceptive Method Used?"
   ]
  },
  {
   "cell_type": "code",
   "execution_count": 219,
   "id": "b2b850d0",
   "metadata": {},
   "outputs": [
    {
     "data": {
      "text/plain": [
       "<AxesSubplot: xlabel='wife_education_level'>"
      ]
     },
     "execution_count": 219,
     "metadata": {},
     "output_type": "execute_result"
    },
    {
     "data": {
      "image/png": "[encoded data removed]",
      "text/plain": [
       "<Figure size 640x480 with 1 Axes>"
      ]
     },
     "metadata": {},
     "output_type": "display_data"
    }
   ],
   "source": [
    "pd.crosstab(df['wife_education_level'], df['contraceptive_method_used']).plot.bar(ylim=[0,350])"
   ]
  },
  {
   "cell_type": "code",
   "execution_count": 220,
   "id": "d9f06bed",
   "metadata": {},
   "outputs": [
    {
     "data": {
      "text/plain": [
       "<AxesSubplot: xlabel='husband_education_level'>"
      ]
     },
     "execution_count": 220,
     "metadata": {},
     "output_type": "execute_result"
    },
    {
     "data": {
      "image/png": "[encoded data removed]",
      "text/plain": [
       "<Figure size 640x480 with 1 Axes>"
      ]
     },
     "metadata": {},
     "output_type": "display_data"
    }
   ],
   "source": [
    "pd.crosstab(df['husband_education_level'], df['contraceptive_method_used']).plot.bar(ylim=[0,350])"
   ]
  },
  {
   "cell_type": "markdown",
   "id": "cd08f333",
   "metadata": {},
   "source": [
    "According to the above plots, the likelihood of using contraceptives long-term increases among those of a higher education level, as one might expect. What is interesting, however, is that in men, the majority do not use contraceptives regardless of education level, while the majority of highly-educated women use them long-term. Notice also that men are vastly more likely to be highly-educated than women.\n",
    "\n",
    "This disproportionality implies that, while education level undeniably correlates positively with contraceptive use, there are likely other culteral or external factors that result in a majority of men not using contraceptives. One such potential factor may be an established culture of non-use of contraceptives among men.\n",
    "\n",
    "Also worth noting that the number of women who do not use contraceptives appears to remain relatively unchanged as education status increases, though it is conclude what the relationship here may be."
   ]
  },
  {
   "cell_type": "markdown",
   "id": "5650ee57",
   "metadata": {},
   "source": [
    "### Question: How does Standard of Living Affect Number of Children in Married Women?"
   ]
  },
  {
   "cell_type": "code",
   "execution_count": 235,
   "id": "f1b0ce00",
   "metadata": {},
   "outputs": [
    {
     "data": {
      "text/plain": [
       "<AxesSubplot: xlabel='standard_of_living'>"
      ]
     },
     "execution_count": 235,
     "metadata": {},
     "output_type": "execute_result"
    },
    {
     "data": {
      "image/png": "[encoded data removed]",
      "text/plain": [
       "<Figure size 640x480 with 1 Axes>"
      ]
     },
     "metadata": {},
     "output_type": "display_data"
    }
   ],
   "source": [
    "fdf = df.groupby('standard_of_living')['num_children'].mean()\n",
    "fdf.plot.bar()"
   ]
  },
  {
   "cell_type": "markdown",
   "id": "58bcf1ec",
   "metadata": {},
   "source": [
    "This plot gave a surprising result. Apparently, as standard of living increases, mean children among women remains static. This implies there is no or very little relationship between standard of living and number of children; or, potentially, that there are other factors countering whatever effects standard of living may have on number of children."
   ]
  },
  {
   "cell_type": "markdown",
   "id": "2fe55264",
   "metadata": {},
   "source": [
    "### Question: How Does Wife's Religion Affect Likelihood to Use Contraception?"
   ]
  },
  {
   "cell_type": "code",
   "execution_count": 239,
   "id": "cef89df9",
   "metadata": {},
   "outputs": [
    {
     "data": {
      "text/plain": [
       "<AxesSubplot: xlabel='isMuslim'>"
      ]
     },
     "execution_count": 239,
     "metadata": {},
     "output_type": "execute_result"
    },
    {
     "data": {
      "image/png": "[encoded data removed]",
      "text/plain": [
       "<Figure size 640x480 with 1 Axes>"
      ]
     },
     "metadata": {},
     "output_type": "display_data"
    }
   ],
   "source": [
    "pd.crosstab(df['isMuslim'], df['contraceptive_method_used']).plot.bar()"
   ]
  },
  {
   "cell_type": "markdown",
   "id": "76dbe009",
   "metadata": {},
   "source": [
    "The above plot shows a couple's distribution of using contraceptives compared to whether the wife is Muslim or not. It appears that a couple's proportional likelihood of long-term use of contraceptives drops drastically if the wife is Muslim, but what is interesting is that among non-Muslim wives, the proportional likelihood of long-term use of contraceptives remains relatively the same as short-term or no use."
   ]
  },
  {
   "cell_type": "code",
   "execution_count": null,
   "id": "f0dfa360",
   "metadata": {},
   "outputs": [],
   "source": []
  }
 ],
 "metadata": {
  "kernelspec": {
   "display_name": "Python 3 (ipykernel)",
   "language": "python",
   "name": "python3"
  },
  "language_info": {
   "codemirror_mode": {
    "name": "ipython",
    "version": 3
   },
   "file_extension": ".py",
   "mimetype": "text/x-python",
   "name": "python",
   "nbconvert_exporter": "python",
   "pygments_lexer": "ipython3",
   "version": "3.9.13"
  },
  "toc-autonumbering": false
 },
 "nbformat": 4,
 "nbformat_minor": 5
}
